{
 "cells": [
  {
   "cell_type": "code",
   "execution_count": 1,
   "metadata": {},
   "outputs": [
    {
     "name": "stdout",
     "output_type": "stream",
     "text": [
      "This dataset can be visualized in Jupyter Notebook by ds.visualize() or at https://app.activeloop.ai/activeloop/nabirds-dataset-val\n",
      "\n",
      "hub://activeloop/nabirds-dataset-val loaded successfully.\n",
      "\n",
      " \r"
     ]
    },
    {
     "name": "stderr",
     "output_type": "stream",
     "text": [
      "/Users/pxguo/miniconda3/lib/python3.9/site-packages/deeplake/integrations/pytorch/common.py:91: UserWarning: Decode method for tensors ['images'] is defaulting to numpy. Please consider specifying a decode_method in .pytorch() that maximizes the data preprocessing speed based on your transformation.\n",
      "  warnings.warn(\n"
     ]
    }
   ],
   "source": [
    "import deeplake\n",
    "ds = deeplake.load('hub://activeloop/nabirds-dataset-val')\n",
    "dataloader = ds.pytorch(num_workers=1, batch_size=1, shuffle=False)"
   ]
  },
  {
   "cell_type": "code",
   "execution_count": 2,
   "metadata": {},
   "outputs": [
    {
     "name": "stdout",
     "output_type": "stream",
     "text": [
      "NABird_demo_images/0.png\n",
      "NABird_demo_images/1.png\n",
      "NABird_demo_images/2.png\n",
      "NABird_demo_images/3.png\n",
      "NABird_demo_images/4.png\n",
      "NABird_demo_images/5.png\n",
      "NABird_demo_images/6.png\n",
      "NABird_demo_images/7.png\n",
      "NABird_demo_images/8.png\n",
      "NABird_demo_images/9.png\n",
      "NABird_demo_images/10.png\n",
      "NABird_demo_images/11.png\n",
      "NABird_demo_images/12.png\n",
      "NABird_demo_images/13.png\n",
      "NABird_demo_images/14.png\n",
      "NABird_demo_images/15.png\n",
      "NABird_demo_images/16.png\n",
      "NABird_demo_images/17.png\n",
      "NABird_demo_images/18.png\n",
      "NABird_demo_images/19.png\n",
      "NABird_demo_images/20.png\n",
      "NABird_demo_images/21.png\n",
      "NABird_demo_images/22.png\n",
      "NABird_demo_images/23.png\n",
      "NABird_demo_images/24.png\n",
      "NABird_demo_images/25.png\n",
      "NABird_demo_images/26.png\n",
      "NABird_demo_images/27.png\n",
      "NABird_demo_images/28.png\n",
      "NABird_demo_images/29.png\n",
      "NABird_demo_images/30.png\n",
      "NABird_demo_images/31.png\n",
      "NABird_demo_images/32.png\n",
      "NABird_demo_images/33.png\n",
      "NABird_demo_images/34.png\n",
      "NABird_demo_images/35.png\n",
      "NABird_demo_images/36.png\n",
      "NABird_demo_images/37.png\n",
      "NABird_demo_images/38.png\n",
      "NABird_demo_images/39.png\n",
      "NABird_demo_images/40.png\n",
      "NABird_demo_images/41.png\n",
      "NABird_demo_images/42.png\n",
      "NABird_demo_images/43.png\n",
      "NABird_demo_images/44.png\n",
      "NABird_demo_images/45.png\n",
      "NABird_demo_images/46.png\n",
      "NABird_demo_images/47.png\n",
      "NABird_demo_images/48.png\n",
      "NABird_demo_images/49.png\n",
      "NABird_demo_images/50.png\n",
      "NABird_demo_images/51.png\n",
      "NABird_demo_images/52.png\n",
      "NABird_demo_images/53.png\n",
      "NABird_demo_images/54.png\n",
      "NABird_demo_images/55.png\n",
      "NABird_demo_images/56.png\n",
      "NABird_demo_images/57.png\n",
      "NABird_demo_images/58.png\n",
      "NABird_demo_images/59.png\n",
      "NABird_demo_images/60.png\n",
      "NABird_demo_images/61.png\n",
      "NABird_demo_images/62.png\n",
      "NABird_demo_images/63.png\n",
      "NABird_demo_images/64.png\n",
      "NABird_demo_images/65.png\n",
      "NABird_demo_images/66.png\n",
      "NABird_demo_images/67.png\n",
      "NABird_demo_images/68.png\n",
      "NABird_demo_images/69.png\n",
      "NABird_demo_images/70.png\n",
      "NABird_demo_images/71.png\n",
      "NABird_demo_images/72.png\n",
      "NABird_demo_images/73.png\n",
      "NABird_demo_images/74.png\n",
      "NABird_demo_images/75.png\n",
      "NABird_demo_images/76.png\n",
      "NABird_demo_images/77.png\n",
      "NABird_demo_images/78.png\n",
      "NABird_demo_images/79.png\n",
      "NABird_demo_images/80.png\n",
      "NABird_demo_images/81.png\n",
      "NABird_demo_images/82.png\n",
      "NABird_demo_images/83.png\n",
      "NABird_demo_images/84.png\n",
      "NABird_demo_images/85.png\n",
      "NABird_demo_images/86.png\n",
      "NABird_demo_images/87.png\n",
      "NABird_demo_images/88.png\n",
      "NABird_demo_images/89.png\n",
      "NABird_demo_images/90.png\n",
      "NABird_demo_images/91.png\n",
      "NABird_demo_images/92.png\n",
      "NABird_demo_images/93.png\n",
      "NABird_demo_images/94.png\n",
      "NABird_demo_images/95.png\n",
      "NABird_demo_images/96.png\n",
      "NABird_demo_images/97.png\n",
      "NABird_demo_images/98.png\n",
      "NABird_demo_images/99.png\n",
      "NABird_demo_images/100.png\n"
     ]
    }
   ],
   "source": [
    "from torchvision.utils import save_image\n",
    "for index, item in enumerate(dataloader):\n",
    "    # item['images']: [1,H,W,3]\n",
    "    dst_img_dir = 'NABird_demo_images/' + str(index) +'.png' \n",
    "    print(dst_img_dir)\n",
    "    save_image((item['images']/255.).permute(0,3,1,2), dst_img_dir)\n",
    "    if index==100:\n",
    "        break"
   ]
  }
 ],
 "metadata": {
  "kernelspec": {
   "display_name": "base",
   "language": "python",
   "name": "python3"
  },
  "language_info": {
   "codemirror_mode": {
    "name": "ipython",
    "version": 3
   },
   "file_extension": ".py",
   "mimetype": "text/x-python",
   "name": "python",
   "nbconvert_exporter": "python",
   "pygments_lexer": "ipython3",
   "version": "3.9.12"
  },
  "orig_nbformat": 4
 },
 "nbformat": 4,
 "nbformat_minor": 2
}
