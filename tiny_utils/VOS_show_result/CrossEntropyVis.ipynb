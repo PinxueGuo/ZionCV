{
 "cells": [
  {
   "cell_type": "code",
   "execution_count": 4,
   "metadata": {},
   "outputs": [],
   "source": [
    "import cv2\n",
    "import numpy as np\n",
    "from PIL import Image\n",
    "import torch as t\n",
    "import torch.nn as nn\n",
    "from torchvision.utils import save_image\n",
    "from einops import rearrange"
   ]
  },
  {
   "cell_type": "code",
   "execution_count": 32,
   "metadata": {},
   "outputs": [],
   "source": [
    "img_filename = '/Users/pxguo/Documents/FDU/my_paper/BiDecVOS_TIP-21/Fig/H+L_00009.png'\n",
    "gt_filename = '/Users/pxguo/Documents/LocalData/DAVIS/Annotations/480p/bike-packing/00009.png'\n",
    "\n",
    "img = np.array(Image.open(img_filename).convert('P'), dtype=np.uint8)\n",
    "gt = np.array(Image.open(gt_filename).convert('P'), dtype=np.uint8)\n",
    "\n",
    "h, w = img.shape\n",
    "labels = np.unique(img)\n",
    "mask = np.zeros((len(labels), h, w))\n",
    "for k, l in enumerate(labels):\n",
    "    mask[k] = (img == l).astype(np.uint8)\n",
    "\n",
    "mask = t.from_numpy(mask).unsqueeze(0)\n",
    "target = t.from_numpy(gt).unsqueeze(0)"
   ]
  },
  {
   "cell_type": "code",
   "execution_count": 33,
   "metadata": {},
   "outputs": [],
   "source": [
    "\n",
    "loss = nn.CrossEntropyLoss(reduction='none')\n",
    "ce = loss(mask.float(), target.long())\n",
    "save_image(ce, 'ce.png')\n"
   ]
  }
 ],
 "metadata": {
  "kernelspec": {
   "display_name": "Python 3.8.11 ('base')",
   "language": "python",
   "name": "python3"
  },
  "language_info": {
   "codemirror_mode": {
    "name": "ipython",
    "version": 3
   },
   "file_extension": ".py",
   "mimetype": "text/x-python",
   "name": "python",
   "nbconvert_exporter": "python",
   "pygments_lexer": "ipython3",
   "version": "3.8.11"
  },
  "orig_nbformat": 4,
  "vscode": {
   "interpreter": {
    "hash": "ed6cfc5504cf9e92416acad46fd020299de030ac76f33fdf2446880db813b566"
   }
  }
 },
 "nbformat": 4,
 "nbformat_minor": 2
}
